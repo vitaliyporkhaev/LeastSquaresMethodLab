{
 "cells": [
  {
   "cell_type": "code",
   "execution_count": 39,
   "id": "fcbab206",
   "metadata": {},
   "outputs": [],
   "source": [
    "import cvxpy as cvx\n",
    "import numpy as np\n",
    "from time import time\n",
    "from scipy.stats import multivariate_normal"
   ]
  },
  {
   "cell_type": "code",
   "execution_count": 54,
   "id": "0f28829e",
   "metadata": {},
   "outputs": [],
   "source": [
    "N = 100\n",
    "n_s = [i*10 for i in range(1, 11)] \n",
    "noise = np.random.normal(0, 2, N)\n",
    "minimums = []\n",
    "time_stat = []\n",
    "xvalue = []\n",
    "fvalue = []\n",
    "for n in n_s:\n",
    "    time1 = []\n",
    "    xvalue1 = []\n",
    "    fvalue1 = []\n",
    "    for popitka in range(50):\n",
    "        X = np.random.multivariate_normal(([0]*n), np.eye(n), N) #генерация зависимых переменных?\n",
    "        y = np.sum(X) + noise #генерация истинных значений\n",
    "        t1 = time()\n",
    "        x = cvx.Variable(n)\n",
    "        obj = cvx.Minimize(cvx.norm(X @ x - y)) # по умолчанию используется вторая норма\n",
    "\n",
    "        # формулируем задачу и решаем\n",
    "        prob = cvx.Problem(obj)\n",
    "        prob.solve()\n",
    "        t2 = time()\n",
    "        time1.append(t2 - t1)\n",
    "        xvalue1.append(x.value)\n",
    "        fvalue1.append(prob.value)\n",
    "\n",
    "#         print(prob.status) # optimal\n",
    "#         print(prob.value) # f0(x*)\n",
    "#         print(x.value) # (x*)\n",
    "    time_stat.append(np.median(time1))\n",
    "    xvalue.append(xvalue1)\n",
    "    fvalue.append(fvalue1)\n",
    "    "
   ]
  },
  {
   "cell_type": "code",
   "execution_count": 55,
   "id": "37de65d1",
   "metadata": {},
   "outputs": [
    {
     "data": {
      "text/plain": [
       "([0.004015684127807617,\n",
       "  0.0049866437911987305,\n",
       "  0.005984067916870117,\n",
       "  0.00700533390045166,\n",
       "  0.008007407188415527,\n",
       "  0.0089949369430542,\n",
       "  0.009973526000976562,\n",
       "  0.011967778205871582,\n",
       "  0.01396191120147705,\n",
       "  0.012964963912963867],\n",
       " array([ 0.46369219,  0.19700765, -0.4421127 , -0.11114801,  0.66855833,\n",
       "        -0.25499327,  0.03205079, -0.16958114,  0.21169999,  0.4940743 ]),\n",
       " 27.572303826167772)"
      ]
     },
     "execution_count": 55,
     "metadata": {},
     "output_type": "execute_result"
    }
   ],
   "source": [
    "time_stat, xvalue[0][0], fvalue[0][0]"
   ]
  },
  {
   "cell_type": "code",
   "execution_count": 49,
   "id": "5ec2e27c",
   "metadata": {},
   "outputs": [],
   "source": [
    "import matplotlib.pyplot as plt"
   ]
  },
  {
   "cell_type": "code",
   "execution_count": 48,
   "id": "7f21eb43",
   "metadata": {},
   "outputs": [
    {
     "data": {
      "image/png": "[encoded data removed]",
      "text/plain": [
       "<Figure size 640x480 with 1 Axes>"
      ]
     },
     "metadata": {},
     "output_type": "display_data"
    }
   ],
   "source": [
    "fig, ax = plt.subplots()\n",
    "ax.bar(n_s, time_stat)\n",
    "\n",
    "ax.set(xlabel='n', ylabel='time (n_s)',\n",
    "       title='График зависимости среднего времени решения задач от размерности n')\n",
    "ax.grid()\n",
    "\n",
    "plt.show()"
   ]
  },
  {
   "cell_type": "code",
   "execution_count": null,
   "id": "d21ddcc7",
   "metadata": {},
   "outputs": [],
   "source": [
    "# N = 100\n",
    "# n_s = [i*10 for i in range(1, 11)] \n",
    "# noise = np.random.normal(0, 5, N)\n",
    "# minimums = []\n",
    "# time_stat = []\n",
    "# for n in n_s:\n",
    "#     time1 = []\n",
    "#     for popitka in range(50):\n",
    "#         X = np.random.multivariate_normal(([0]*n), np.eye(n), N) #генерация зависимых переменных?\n",
    "#         y = np.sum(X) + noise #генерация истинных значений\n",
    "        \n",
    "#         x = cvx.Variable(n)\n",
    "#         obj = cvx.Minimize(cvx.norm(X @ x - y)) # по умолчанию используется вторая норма\n",
    "\n",
    "#         # формулируем задачу и решаем\n",
    "#         prob = cvx.Problem(obj)\n",
    "#         prob.solve()\n",
    "#         t1 = time()\n",
    "#         #алгорит min = алгоритм1 vs cvx\n",
    "#         t2 = time()\n",
    "#         time1.append(t2 - t1)\n",
    "\n",
    "# #         print(prob.status) # optimal\n",
    "# #         print(prob.value) # 13.9999999869\n",
    "# #         print(x.value) # [[-2.] [ 3.]]\n",
    "#     time_stat.append(np.median(time1))\n",
    "    "
   ]
  }
 ],
 "metadata": {
  "kernelspec": {
   "display_name": "Python 3 (ipykernel)",
   "language": "python",
   "name": "python3"
  },
  "language_info": {
   "codemirror_mode": {
    "name": "ipython",
    "version": 3
   },
   "file_extension": ".py",
   "mimetype": "text/x-python",
   "name": "python",
   "nbconvert_exporter": "python",
   "pygments_lexer": "ipython3",
   "version": "3.9.13"
  }
 },
 "nbformat": 4,
 "nbformat_minor": 5
}
